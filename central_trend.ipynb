{
  "nbformat": 4,
  "nbformat_minor": 0,
  "metadata": {
    "colab": {
      "provenance": []
    },
    "kernelspec": {
      "name": "python3",
      "display_name": "Python 3"
    },
    "language_info": {
      "name": "python"
    }
  },
  "cells": [
    {
      "cell_type": "markdown",
      "source": [
        "## Меры центральной тенденции (среднее, медиана, мода) / Measures of the central trend (mean, median, mode)"
      ],
      "metadata": {
        "id": "pM73qy3zMAPO"
      }
    },
    {
      "cell_type": "markdown",
      "source": [
        "### Среднее"
      ],
      "metadata": {
        "id": "NkVuw81OME-l"
      }
    },
    {
      "cell_type": "markdown",
      "source": [
        "**Среднее (mean)**\n",
        "\n",
        "Сумма всех значений, деленная на количество значений.\n",
        "\n",
        "*Синоним*: среднее арифметическое\n"
      ],
      "metadata": {
        "id": "o1dHNla8uGfX"
      }
    },
    {
      "cell_type": "code",
      "source": [
        "# Python\n",
        "arr = [0,1,2,3,4,5,6,7,8,9,10]\n",
        "\n",
        "# 1ый способ: модуль статистики\n",
        "from statistics import mean\n",
        "print(f\"1ый способ: модуль статистики \\n{mean(arr)}\")\n",
        "\n",
        "# 2ой способ: sum()\n",
        "print(f\"2ой способ: sum() \\n{sum(arr)/len(arr)}\")\n",
        "\n",
        "# 3ий способ: reduce()\n",
        "from functools import reduce\n",
        "print(f\"3ий способ: reduce() \\n{reduce(lambda x, y: x + y, arr) /len(arr)}\")\n",
        "\n",
        "# 4ый способ: operator.add()\n",
        "from functools import reduce \n",
        "import operator\n",
        "print(f\"4ый способ: operator.add()\\n{reduce(operator.add, arr)/len(arr)}\")\n",
        "\n",
        "# Pandas\n",
        "import pandas as pd\n",
        "arr_pd = pd.Series(arr, copy=False)\n",
        "print(f\"Pandas \\n{arr_pd.mean()}\")\n",
        "# Среднее значение в столбце\n",
        "df = pd.DataFrame({'Name':['One', 'Two', 'three'], 'Numbers':[1, 2, 3]})\n",
        "print(f\"Среднее значение в столбце \\n{df.Numbers.mean()}\")\n",
        "\n",
        "# Numpy\n",
        "import numpy as np\n",
        "arr_np = np.array(arr)\n",
        "print(f\"Numpy \\n{np.average(arr_np)}\")"
      ],
      "metadata": {
        "id": "LbvSzlrKZD38"
      },
      "execution_count": null,
      "outputs": []
    },
    {
      "cell_type": "markdown",
      "source": [
        "**Среднее усеченное (trimmed mean)**\n",
        "\n",
        "Среднее число всех значений после отбрасывания фиксированного числа предельных значений.\n",
        "\n",
        "*Синоним*: обрезанное среднее."
      ],
      "metadata": {
        "id": "xwcmZogxvlYR"
      }
    },
    {
      "cell_type": "markdown",
      "source": [
        "**Усеченное среднее** - среднее из упорядоченной выборки из которой исключены 5-10% минимальных и максимальных показателей (выбросов)"
      ],
      "metadata": {
        "id": "yQsc0NRejBAT"
      }
    },
    {
      "cell_type": "code",
      "source": [
        "from scipy import stats\n",
        "#Расчёт 10% усечённого среднего\n",
        "stats.trim_mean (arr, 0.1 )"
      ],
      "metadata": {
        "id": "D12BaUDNkHhB"
      },
      "execution_count": null,
      "outputs": []
    },
    {
      "cell_type": "markdown",
      "source": [
        "**Среднее взвешенное (weighted mean)**\n",
        "\n",
        "Сумма произведений всех значений на их веса, деленная на сумму весов.\n",
        "\n",
        "*Синоним*: среднее арифметическое взвешенное."
      ],
      "metadata": {
        "id": "z_cfMNLAuZVN"
      }
    },
    {
      "cell_type": "markdown",
      "source": [
        "### Медиана"
      ],
      "metadata": {
        "id": "Ju2AYGawMKm2"
      }
    },
    {
      "cell_type": "markdown",
      "source": [
        "**Медиана (median)**\n",
        "\n",
        "Такое значение, при котором половина сортированных данных находится выше и ниже данного значения.\n",
        "\n",
        "*Синоним*: 50-й процентиль."
      ],
      "metadata": {
        "id": "PaIV1xzWu25F"
      }
    },
    {
      "cell_type": "code",
      "source": [
        "arr = [0,1,2,3,4,5,6,7,8,9,10]\n",
        "\n",
        "#python\n",
        "def median(arr):\n",
        "    srtd = sorted(arr)\n",
        "    lst = len(arr)\n",
        "    index = (lst - 1) // 2\n",
        "   \n",
        "    if (lst % 2):\n",
        "        return srtd[index]\n",
        "    else:\n",
        "        return (srtd[index] + srtd[index + 1])/2.0\n",
        "\n",
        "#numpy\n",
        "from numpy import median\n",
        "median(arr)\n",
        "\n",
        "#pandas\n",
        "arr_pd = pd.Series(arr)\n",
        "arr_pd.median()\n",
        "\n",
        "#statistics\n",
        "import statistics\n",
        "statistics.median(arr)"
      ],
      "metadata": {
        "id": "aHvin56FIG7W"
      },
      "execution_count": null,
      "outputs": []
    },
    {
      "cell_type": "markdown",
      "source": [
        "**Медиана взвешенная (weighted median)**\n",
        "\n",
        "Такое значение, при котором половина суммы весов находится выше и ниже сортированных данных."
      ],
      "metadata": {
        "id": "SVBQdWoVvFiz"
      }
    },
    {
      "cell_type": "markdown",
      "source": [
        "### Мода"
      ],
      "metadata": {
        "id": "bKtFJ6CbMR2F"
      }
    },
    {
      "cell_type": "markdown",
      "source": [
        "Мода – наиболее часто встречающееся в числовом ряду значение."
      ],
      "metadata": {
        "id": "Qw03Z-QGwahz"
      }
    },
    {
      "cell_type": "code",
      "source": [
        "arr = [0,10,2,3,10,9,10,10]\n",
        "\n",
        "#python\n",
        "max(set(arr), key=arr.count)\n",
        "\n",
        "#pandas\n",
        "arr_pd = pd.Series(arr)\n",
        "arr_pd.mode()[0]\n",
        "\n",
        "#scipy\n",
        "from scipy import stats\n",
        "Mode = int(stats.mode(arr)[0]) # 0 - самое частое значение, 1 - частота \n",
        "\n",
        "#statistics\n",
        "import statistics\n",
        "statistics.mode(arr)"
      ],
      "metadata": {
        "id": "gcYIsc-6lpfT"
      },
      "execution_count": null,
      "outputs": []
    },
    {
      "cell_type": "markdown",
      "source": [
        "**Робастный (robust)**\n",
        "\n",
        "Не чувствительный к предельным значениям.\n",
        "\n",
        "*Синоним*: устойчивый."
      ],
      "metadata": {
        "id": "XaP4bJqlvv8E"
      }
    },
    {
      "cell_type": "markdown",
      "source": [
        "Медиана называется робастной оценкой центрального положения, поскольку она\n",
        "не находится под влиянием выбросов (предельных случаев), которые могут исказить результаты. "
      ],
      "metadata": {
        "id": "VsjnPBJ__g8X"
      }
    },
    {
      "cell_type": "markdown",
      "source": [
        "**Выброс (outlier)**\n",
        "\n",
        "Значение данных, которое сильно отличается от большинства данных.\n",
        "\n",
        "*Синоним*: предельное значение."
      ],
      "metadata": {
        "id": "3oUK-6R1wFEc"
      }
    }
  ]
}