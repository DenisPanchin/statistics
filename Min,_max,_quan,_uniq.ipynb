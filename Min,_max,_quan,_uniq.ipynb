{
  "nbformat": 4,
  "nbformat_minor": 0,
  "metadata": {
    "colab": {
      "provenance": []
    },
    "kernelspec": {
      "name": "python3",
      "display_name": "Python 3"
    },
    "language_info": {
      "name": "python"
    }
  },
  "cells": [
    {
      "cell_type": "markdown",
      "source": [
        "## Минимум, максимум, количество, уникальные (Minimum, maximum, quantity, unique)"
      ],
      "metadata": {
        "id": "UsFIzNJUTfKU"
      }
    },
    {
      "cell_type": "markdown",
      "source": [
        "**Минимальное значение (Minimum)**"
      ],
      "metadata": {
        "id": "hmpYSY_9MhfW"
      }
    },
    {
      "cell_type": "code",
      "source": [
        "# Python\n",
        "arr = [1,2,3,4,5,6,7,8,9,10]\n",
        "print(min(arr))\n",
        "\n",
        "# Pandas\n",
        "import pandas as pd\n",
        "arr_pd = pd.Series(arr, copy=False)\n",
        "print(arr_pd.min())\n",
        "\n",
        "# Numpy\n",
        "import numpy as np\n",
        "arr_np = np.array(arr)\n",
        "print(np.min(arr_np))"
      ],
      "metadata": {
        "id": "j1vkvgN3Mk_V"
      },
      "execution_count": null,
      "outputs": []
    },
    {
      "cell_type": "markdown",
      "source": [
        "**Максимальное значение (maximum)**"
      ],
      "metadata": {
        "id": "_feMnwtHP3lh"
      }
    },
    {
      "cell_type": "code",
      "source": [
        "# Python\n",
        "arr = [1,2,3,4,5,6,7,8,9,10]\n",
        "print(max(arr))\n",
        "\n",
        "# Pandas\n",
        "import pandas as pd\n",
        "arr_pd = pd.Series(arr, copy=False)\n",
        "print(arr_pd.max())\n",
        "\n",
        "# Numpy\n",
        "import numpy as np\n",
        "arr_np = np.array(arr)\n",
        "print(np.max(arr_np))"
      ],
      "metadata": {
        "id": "FA9gp3CAQOTJ"
      },
      "execution_count": null,
      "outputs": []
    },
    {
      "cell_type": "markdown",
      "source": [
        "**Количество значений (quantity)**"
      ],
      "metadata": {
        "id": "BQwDWci6P80B"
      }
    },
    {
      "cell_type": "code",
      "source": [
        "# Python\n",
        "arr = [0,1,2,3,4,5,6,7,8,9,10]\n",
        "print(len(arr))\n",
        "\n",
        "# Pandas\n",
        "import pandas as pd\n",
        "arr_pd = pd.Series(arr, copy=False)\n",
        "print(arr_pd.size)\n",
        "\n",
        "# Numpy\n",
        "import numpy as np\n",
        "arr_np = np.array(arr)\n",
        "print(np.prod(arr_np.shape))"
      ],
      "metadata": {
        "id": "ILzwjTfuQyo3"
      },
      "execution_count": null,
      "outputs": []
    },
    {
      "cell_type": "markdown",
      "source": [
        "**Уникальные значения (unique)**"
      ],
      "metadata": {
        "id": "IerPNGFeP_lZ"
      }
    },
    {
      "cell_type": "code",
      "source": [
        "# Python\n",
        "arr = [0,1,2,3,4,5,6,7,8,9,10]\n",
        "unique = list(set(arr))\n",
        "print(unique)\n",
        "\n",
        "# Pandas\n",
        "import pandas as pd\n",
        "arr_pd = pd.Series(arr, copy=False)\n",
        "print(pd.unique(arr_pd))\n",
        "\n",
        "# Numpy\n",
        "import numpy as np\n",
        "arr_np = np.array(arr)\n",
        "print(np.unique(arr_np))"
      ],
      "metadata": {
        "colab": {
          "base_uri": "https://localhost:8080/"
        },
        "id": "T_9Cm2ssUBcq",
        "outputId": "6eebb917-652d-4a57-df99-890eeb19fddb"
      },
      "execution_count": null,
      "outputs": [
        {
          "output_type": "stream",
          "name": "stdout",
          "text": [
            "[0, 1, 2, 3, 4, 5, 6, 7, 8, 9, 10]\n",
            "[ 0  1  2  3  4  5  6  7  8  9 10]\n",
            "[ 0  1  2  3  4  5  6  7  8  9 10]\n"
          ]
        }
      ]
    },
    {
      "cell_type": "markdown",
      "source": [
        "### Сортировка"
      ],
      "metadata": {
        "id": "UGxahHwQkOlc"
      }
    },
    {
      "cell_type": "code",
      "source": [
        "arr = [3, 5, 2, 8, 4, 1, 6, 9, 7]\n",
        "arr.sort()\n",
        "print(arr)"
      ],
      "metadata": {
        "colab": {
          "base_uri": "https://localhost:8080/"
        },
        "id": "lhfrtqudkSgR",
        "outputId": "474e5283-82bd-4860-8bdc-3e33168e79bb"
      },
      "execution_count": null,
      "outputs": [
        {
          "output_type": "stream",
          "name": "stdout",
          "text": [
            "[1, 2, 3, 4, 5, 6, 7, 8, 9]\n"
          ]
        }
      ]
    }
  ]
}