{
  "nbformat": 4,
  "nbformat_minor": 0,
  "metadata": {
    "colab": {
      "provenance": [],
      "toc_visible": true
    },
    "kernelspec": {
      "name": "python3",
      "display_name": "Python 3"
    },
    "language_info": {
      "name": "python"
    }
  },
  "cells": [
    {
      "cell_type": "markdown",
      "source": [
        "## Оценки вариабельности (отклонения, среднее абсолютное отклонение, дисперсия, стандартное отклонение, медианное абсолютное отклонение от медианы, размах, порядковые статистики, процентиль, межквартильный размах)/ Measures of spread (deviations, mean absolute deviation, variance, standard deviation, median absolute deviation from the median, range, order statistics, percentile, interquartile range)"
      ],
      "metadata": {
        "id": "nmjHjDztD5hB"
      }
    },
    {
      "cell_type": "markdown",
      "source": [
        "### **Отклонения (deviations)**\n",
        "\n",
        "Разница между наблюдаемыми значениями и оценкой центрального положения.\n",
        "\n",
        "*Синонимы*: ошибки, остатки."
      ],
      "metadata": {
        "id": "zh6ZkoTdEOHy"
      }
    },
    {
      "cell_type": "markdown",
      "source": [
        "### **Среднее абсолютное отклонение (mean absolute deviation)**\n",
        "\n",
        "Среднее абсолютных значений отклонений от среднего (абсолютным оно является потому, что суммируются отклонения по модулю).\n",
        "\n",
        "*Синонимы*: норма l1, манхэттенская норма."
      ],
      "metadata": {
        "id": "oaFRS0HyF81-"
      }
    },
    {
      "cell_type": "markdown",
      "source": [
        "![mad.jpg](data:image/jpeg;base64,/9j/4AAQSkZJRgABAQEAYABgAAD/2wBDAAIBAQIBAQICAgICAgICAwUDAwMDAwYEBAMFBwYHBwcGBwcICQsJCAgKCAcHCg0KCgsMDAwMBwkODw0MDgsMDAz/2wBDAQICAgMDAwYDAwYMCAcIDAwMDAwMDAwMDAwMDAwMDAwMDAwMDAwMDAwMDAwMDAwMDAwMDAwMDAwMDAwMDAwMDAz/wAARCABMAe8DASIAAhEBAxEB/8QAHwAAAQUBAQEBAQEAAAAAAAAAAAECAwQFBgcICQoL/8QAtRAAAgEDAwIEAwUFBAQAAAF9AQIDAAQRBRIhMUEGE1FhByJxFDKBkaEII0KxwRVS0fAkM2JyggkKFhcYGRolJicoKSo0NTY3ODk6Q0RFRkdISUpTVFVWV1hZWmNkZWZnaGlqc3R1dnd4eXqDhIWGh4iJipKTlJWWl5iZmqKjpKWmp6ipqrKztLW2t7i5usLDxMXGx8jJytLT1NXW19jZ2uHi4+Tl5ufo6erx8vP09fb3+Pn6/8QAHwEAAwEBAQEBAQEBAQAAAAAAAAECAwQFBgcICQoL/8QAtREAAgECBAQDBAcFBAQAAQJ3AAECAxEEBSExBhJBUQdhcRMiMoEIFEKRobHBCSMzUvAVYnLRChYkNOEl8RcYGRomJygpKjU2Nzg5OkNERUZHSElKU1RVVldYWVpjZGVmZ2hpanN0dXZ3eHl6goOEhYaHiImKkpOUlZaXmJmaoqOkpaanqKmqsrO0tba3uLm6wsPExcbHyMnK0tPU1dbX2Nna4uPk5ebn6Onq8vP09fb3+Pn6/9oADAMBAAIRAxEAPwD9/KKKKACiiigAooooAKKKKACiiigAooooAKKKKACiiigAooooAKKKKACiiigAooooAKKKKACiiigAooooAKKKKACiiigAooooAKKKKACiiigAooooAKKKKACivnLw7/wVc+CnjP4i+MfCWh6n488QeJvh9qDaX4j03Sfhv4k1C40icEgLKsNgxCttJRxlHAJVmHNXdZ/4KYfDXw9ayz3uifHS3t4FLySt8EfGnlxgdSW/srAH40AfQFFeCfsef8FO/gf+3t4u8WeH/hZ40k1/XvA4hbXNNvND1HR7uwEpkVCYr2CF25jYNsDbCV3bd65868Pf8FoPAHiXQdW1uHwL8U4fDXhvVdJ0zXdaurDT7e00ZNWhsp9LuZN94JJEuY9QtSIoEluIfMAuIYCQCAfYFFFFABRRWF8NfiTo3xd8F2niDQLo3ulXrSpFMYniJaKV4pBtcBhh0cdOcZGQQaAN2iiigAooooAKKKqahr9jpMoS6vbS2dhuCyzKhI9cE0AW6KzR4z0cn/kK6b/4FJ/jVPw/8StH8UeNfEHh6yujLq/hc241KAxOvkefH5kRDEbW3KD90nGOccUAb1FFFABRRRQAUUUUAFFFFABRRRQAUUUUAFFFFABRRRQAUUUUAFFFFABRRRQAUUUUAFFFFABRRRQAUUUUAFFFFABRRRQAUUUUAFFFFABRRRQAUUUUAFFFFABRRRQB+dn/AAV4/Z28YfsufFzSf22PgdY3l5448AWqWXxF8M2g/d+O/DCkGYOve4tkG9GwTtQHnylU/a37MX7SvhD9sH4CeGPiV4D1NdW8K+LbJL6xn27XUHho5F/glRgyOp+6ysO1ZP7U/wC0MnwT8PaVpOl6T/wlXjvxxdHSfDPh1D/yEZiMyzznnyrK3jPm3ExGFQBQGkkijfI/YF/Yd8K/8E+v2fIfAnhUb0udQudb1W4RGggutQumD3DwW5d1tYMgLHAjERoigs77pHAOi1D9lXwhdftR6Z8Yre1m03xxYaJc+Hrm6s2WJNZspngkEV2u3M3lPAjRHIKZcA4YivCfiJ/wS+1Xxn8Jdd0ey8f6fp/iDxD8YX+LF9qF94dOpWV6YroPYWM1qLmEyLbwW+noGMuC9kjFCpMdfUGv/E7QvC/jnw/4avtRig13xSLltKs9rNJdrboJJ2GAQqorJlmIGXQZywB8c+GX7bHgrxj43+JXiKb4r+Fofh94RbT9IkttV0efQP7EvWMzNcPf3jpHeQXayW5gkiQQskatG8gk3EA9s8D+Gn8GeCtH0eTUtR1qTSrGGzfUNQkEl3fmONUM0zAANI+NzEAAsTwK1a8f/wCHhPwD/wCi4fCD/wALLTv/AI9Xm/xx/ag+IfgP9vP9nXwvpWr+B774WfGXV9VtsWunSzalLBaeHLvUEkF59oMJR7iNCAkOSir+8+ZgQD6or5Z/Zj+PGkfs6f8ABPHw/wCJdXttS1LOqXmn2Gl6ZEkuoazfXOs3EFtZ2yOyI0sssiKC7oigl3dEVnX6mr4b8HfGHxR8C/2A/hB4i8L/AAzb4mvb+OZ4tUhhsbi9u9B0973UhcahbQ28M0zzqv7pQic/afmZU3MACz8SP+C6vw3+CfiHUdF8a+CviV4c17wx4h07w34p09rK0vX8N3Oox2sun75La4kjnFxHcmRFt2kfZaXRKho1WT7Pv/ENhpep2Nlc31nb3mqO8dnBLMqS3bIhdxGpOXKopYgZwASeBX52/wDBN/Qfih8MviT8YZ9X+EvijSPiZ8b/AIqSeML2+17Tg+heHfDvlWxtN13HII5rmO38yEW8TmVblm3qkSGSvePEHxt1zUv+Cqvh/wCH2teHfAN1oGk+G73xDo+oXFju1vRi62lrHdR3bTlV+2ST6jai1S3V9mnSyGZlcRqAfU1FZ/izwtY+OfCupaLqkH2rTNYtJbG8h3snnQyoUddykMMqxGQQRng14f8A8Ot/gT/0I3/la1D/AOP0AfQFeHfthaZ8L7ObQbrxd8KtE+KvjLXJm0jw5o50XTr7VNRZI5bh44pLxkiiijRJZHeSVI19dzqrdZ8Dv2Tvh/8As3X2oXPgvQP7Gm1VEjum+3XNx5qoSVGJZHAwWPTHWuH/AGw/jj45+BXxJ8A6h4S+FEvxD0y6tNai1q/soJZtT0wLbxSWtpbCONsG7ukhVmlaOFRb7ndSFNAHzN4a/az/AGS9d8eeAtCj/Zy0WC+8Y+O774Z3JPgrRW/4RvxJZSOs9jchWLOFCbzNbCaMI8bFhk7fqb4DnP7Z3x6+vh//ANIHr5q/4I4+Hfih8Gfgx4c+G/iH4ea5onjiHxZr/ij4qeIdf0t00ye6u7u8kC6Xcb1F5NMZbUrNEJIUgjnEjCUpG30n8Bf+Tz/j5/veH/8A0gagD3KiiigDN8ZeL9N+H/hHVNd1i7isNJ0a0lvr25lOEt4Y0Lu59goJ/CvnL9nz48fGn9tDwDo3xL8Gv8Pfh78O/EA+2aJp/iPQL3Wda1vTznyrmV4r20jsGlGHWMx3JVWXcckqPVP2yvgZP+05+yb8SPh5a3h0+68a+HL7RoLkOyeRJPA6KxK8gZIzjnFfPH/BP/8Abx+H3wi/Zl+H/wAL/i14j0H4RfFXwXpNt4a1Lwx4qv49Kubm4tYxD5liZygvYJAgdJIN4YMOhyKAPor4a/GXUrLwTFc/FOHw14B1261ufSLa0/tYPa3h89o7XyJpliMzTJsYAIDl9u3IroPhn8bfBnxpi1J/B3i7wx4sTR7prHUG0bVYL8WNwv3oZTEzbJB3VsEelfKX/BW/xn4a8Q/s7/CnX9csZo/DafFnw2Z21PTnUvbG6Ku7QsvmCNlzkMoJXJI281R+AHh3wh8T/wDgpj4l+JXwJuPDN14In+HA0TxDrXhoxPo+sayLwtZxiaHMM08EIk3lCTGsiK2MgUAfWVp+0R8P9Q+LM3gGDxz4Om8dW0P2ibw5HrVs2rRR4zva1D+aFx3K4rI8U/tkfCHwNq3iCw1v4q/DfR77wlj+3La+8TWVvLouYxKPtKvIDDmMh/nA+Ug9DX5rfsoeG/Cnxvf4bfD/AMa/GT48p8bfhJ4kg1q7+HUugaHp40rUoZmM959tTQ1uG0+VWldrhrtvOSQq0jyMAfQv+Civ/BRr9m/xt+yh+1AdP+NHwguda1LwlJ4ZttPh8VWEmo6tLbRTkiO2Epll/eXLRrtQ7jG23IwaAPurxd+1/wDCX4f/AAp0jx5r3xR+HWieB9f2f2X4iv8AxJZ22lalvBZPIunkEUm4KSNrHIBx0qraftt/Bi/+IGh+E4Pi58MJvFXieCG60fRo/FNi2oatDMu+GS3gEvmSpIoLKyKQwGRkV8vf8Fb/ANoDwCf+CNN7rtv418FwaL4pstHTw7qc95FNYX8hubaSMxYkUTAKjOVRgdsbcrgkcb8PP2hLSL/gsV8H7Hx/8a/gV441zW/hlqy+Hf8AhFNFbQ223Vzp0sMf77VL/wA9riOJ3iCNHuWKQhXByoB943v7RHw/034s2/gK48c+Drfx1dxefB4ck1q2XVpo8Z3ral/NZcc5C4o8a/tEfD/4beO9H8L+IvHPg7QPE3iI7dK0jUtatrW/1M5xiCCRxJLzx8gNflx8OvCvhv42Xtx8G/id8ZPj7o/xh8O+Op/Ecfw7tdC0O1+3XsepvdWuo2d+NEe5azkBjZrk3bbY2dZGAG2tX4z6H4V+Ifxp+OPwT+Nfxj+OfgHWPiH4mnvdI8L6J4c0aa38Zae6xfYpdNvZNFubppoxGqELch4GiyBGoyAD9Y6zfGHjPR/h54Zvda1/VdN0PRtNjM13f6hdJbW1rGOrySOQqr7kgVH4D0yfRfA2jWdy109zaWMEMzXUyzTs6xqGLuqqrvkHLBQCckAdK+f/APgqd8TNC+FXwC8O6n4i0rSbnTR4x0gDV9ZNx/Y/hSYT74dVvVheNnggkVTsZ0RmZAzKMkAHsngP9obwJ8V/hpc+MvCPjLwv4u8K2kcskmraFqkGpWYES7pMSwsyEqOSM18xeEfi18Vf2gP2hLbSbf8AaQ+CfgF8rf3Pwz0rQrfVvF9lYsNypcTzX58ucryzCy2IcqA4XcfP/wBkTSJfiN8XP21/B+neLbnX9f8AGsWn3VhqM+mLp0dwbjQxCtzEkcSL9nMgASUly4TPmS43V5/c614X+P3/AATo+EPwp8MNBZ/tLeAda0Bz4fD7fEvhfV7e+jGo6hcocTRwOi3byXLjy51kPzP5gBAP0g+Lf7QHgP8AZ+0uzvPHvjfwl4Ks9QnFra3Gv6xb6bHdTHAEaNM6hnOR8o556VN8Svjj4K+DHgX/AISjxh4v8L+FPDICk6vrOqwWNiAwyv76VlTkdOea+Nfi9+0h4K/Zg/4KPfEix+PEV3p/hb4oeEtL0vwZrdzplxd6ffRILhL/AEiNoUcpcPLIsnl8NKHTbuKgCnc674X/AGLP2tfgrqfijSf+Fe/AHTfhvdeHfCt7rtzINP8AB1/9piZI724uWP2aa4sljVWnYEFJIy5JwQD7O8RftD+APCHwm/4T7VvHPg/TPAvlJN/wkd3rNtDpPluwVH+1M4i2sxAB3YJIArlfhR+358Cfjz4wj8PeBvjX8JPGevzRPPHpmheMNP1G8eNBl3EUMzOVUck4wB1r49+GeueE/gl8Ov2kLU6rbaL8Pfjx4tv7f4V6a1uwtdau5dJT7WbBFXaY7i7WZ48YErB2TcHXPcfBr9oH4fav/wAFw/iH4btPGvhG98R2vwu0nTGsINVgkukube+vZLm32BiwkjR43dPvKrKSAOaAPqD4VftgfCX47Ta7H4I+KPw68ZSeF0EmsrofiSz1E6QpLgNcCGRvJGUfl8fcb0Navwh/aD8BftBaTd3/AIC8b+EPG9jp8xtrq50DWbfUoraUdY3aF2CsMHgnPFfkjrfxk1L4k6f8b9X+G3jb4dfEH4W+Gfj5a+IfHfg7wvojaj4kudGW5tjLeNcRXzJNZ5hZjGLIl1t5QJG2sK+yvCOv+E/2nP8Agpt8Pvib8F9f0XxN4ZsvBeq6V461nQLlLnTbxGkg/s+yuJIzsa6jl89ljbMkSiQEKHAIB6/d/wDBUX9maw1uTTZ/2ivgVDqMM5tpLWTx7pSzxyhtpjKGfcHDcbcZzxXafFj9rX4VfAXWtF03xz8TPh94L1HxIM6Ra674is9Om1QblXMCTSK0vzMo+QHlgO4r5Z8WfH74V+Gv+C3fhfwRceMfAlhqA+FVz4eTQpNTtYpBcy6jbyRWIgLDEjwgssONzIMhSKzf+Cznxe8P/DH4nfsraLD48+HPgDxW3xIjutIl8TwLdWllCmn3kJne1W5tXaEPJHFlZowHljG7JCkA+uPBn7Wnwr+I/wAWNS8B+HviZ8P9e8c6Msjah4d07xFZ3WrWIjZVkMtqkhlQIzKG3KMFgD1q34f/AGlPh14s+Kd/4G0vx/4K1LxtpS773w9aa5azarZr6yWyuZUH+8or4T/Zt+LV/wCMf2tf2x/BFl8VfhT4s+PFx4b0+LTX8LWJ0X99BYTxYFrLfXku63nkiWRvOIVnXKoTg8zceI/B/wC01+wr8A/h74B+zaT+0J8PPEPhuY+HlVU8R+Cry3uY/wC1bi9iP72CF4Vu/MlcBJxLgMzSLkA/Rfxr+0R8P/ht470fwv4i8c+DtA8TeIjt0rSNS1q2tb/UznGIIJHEkvPHyA12Nfk78adE8KfET41/HL4J/Gr4x/HPwBq/xD8Tz32keF9E8N6NNb+MtPdYvsUumXsmi3N000YjWMhboPA0WR5ajI/UzwHpk+i+BtGs7lrp7m0sYIZmuplmnZ1jUMXdVVXfIOWCgE5IA6UAW9e1+x8LaLdalqd7aadp1jE01zdXUyww28ajLO7sQqqB1JOBXEeH/wBrX4VeLfhTqfjvSviZ8PtT8D6IGbUfEVp4is5tKsAv3jNdLIYo8Z53MMV4n/wVdudY8O+E/hL4kNhc6t8PPCfxD07VfHlnBaPdsdLRJlS4eJAS0VvdNbTvwQFh3EfLkcz8KrTwp+0L/wAFQJPil8LtT8N+Jvhvc/D77F4u1jSWjvNI1rVI7+OXTcXCEwy3NtGlwWILNEHiBK5AIB7j8NP+CiP7P/xo8bWPhrwd8c/g74s8R6mzLZ6Vo3jPTb+9uyql2EcMUzO5CqxOAcAE9q37v9r74Taf8aU+G8/xQ+HcPxEkO1PC0niSzXWmPlmXAszJ5x/dgv8Ac+6CenNfLn/BLP8AaC+GPxv/AGj/ANqTSNA8ZeCfFepf8LOfWrazstTtr2ZrdNPsIheRorEmNZkZBKo2h1IzkV4r/wAFI/2gr/Sv+CoWsaP8MfE3w41jxxZfCj7Lq3gq9uU/tvxTANQN1PpNjIs6GC9ktFkcBopiYzwqZEgAP0Xk/ah+GkXwmvfHzfETwKvgXTZHhu/EZ161Gk2rpJ5TrJdeZ5SssnyEFgQ3B54rnPhT/wAFAPgP8d/Gtv4b8D/Gz4R+MvEV4rvBpWheMNO1G9nVFLOVhhmZ2CqCTgcAZrxy4/b5+A3xb/YCXWfCOv8Ah7TtG+JljfeH9I0uC28uVdals5ZG0yWCNf3V5uyDG4VmbAGSy55j4VfHr4f3X/BbrVvCVv418I3nimw+Ellor6bFqkD3kd5DqE0s1sYwxYTLEVkaPG4KQxGOaAPrLxd+0n8Ovh/8RtM8H694+8FaJ4t1sA6dol/rltbajfgnA8m3dxJJz/dU1S8Tftb/AAp8FfF61+H2s/E34e6T49vlR7bw1e+IrODV7gOpZSlo8gmYMqsRheQCe1fAnhvxv4Qt/wBlz9pX4K/G86f/AMLm8SeJfE13baLdxY1bxrHPI8mj3WmRsBJdiOA2kSNBv8lrfBK7ax/HnjrxH4G/4KT/ALJfgh/i38KvC/xq0b4Matpmvz+K7A62Hu5n0hlgNtFqFlJ583kTvGxmO5YZSEYHIAP0W+D37V/wt/aGGr/8IB8SvAHjn+wMDVP+Ef8AENpqf9m53Y8/yZG8vO1vvY+6fSoNF/bC+EniTwJ4g8Uaf8Uvhzf+GfCTFNc1e28S2UthorA4IuZ1kMcJB67yK/OD4RfFE/G7/gm7+0hYeBfG2g+P/GWlfFW71bxM/wAObO3+1Xunf2lbSXE1pYTvehhLbRT+XHMZ0l2Mv7wErXoP7Pnif4M+K/EHjr9oDSPj/wDEX4lWdh4Au9A8S614tsNH0DRNItgd8NtdC20iw33aSFwEd2aIM4YDegYA+wLr/got+z7Y+E9I16f46/BuHQvEFxLa6XqL+NNNW01KaIqJY4JTNskdCyhlUkqWGcZrYH7afwcb4kal4N/4Wz8M/wDhL9Gt5LvUND/4Six/tKxhjjEskktv5vmRosZDszKAFOTxzX5Ifs0/tFweCf2BP2Crzxx8dPgDN4At/EegQ2+jRaE9jq2mSWtrIkq3F/Jq00Ja3d0WY/Y4sM658vIB+wdK/aN+H8//AAWu+Lmm2/jvwXZXenfCXSv7ZuTqtt5umxW95eT3AIJI3pDLE7buI0kV2GCoYA+vvhV+1P8ADH47eCtT8S+CPiP4D8ZeHdEkaLUdV0PxBaajZWDqgkZZpoZGSMhGViGIwpB6GtT4S/HDwX8ffDTa14F8X+F/GujpM1u1/oOqwalbLKv3kMkLMu4dxnIr8wPhh8V9E8f/APBFzwJqvw18UanqPhrwF4/N34zm8BQWWs6vo9jHqdzO0v2SeC5jkeMSW1yY5IJGaMBwp+U19L/8Ez/CHw/8Z/Gjxz8YPh78XfiX8ZovHOl2dhrGva7Z6dp+lyzWrP5Kww2emWKSXKpJIskmGKgRo3IAUA+0KK8b/bH+D+jfGDw3o1trXwe0/wCMEVncvLHZ3dzawDT2K48wG4ZQc9Pl5r59k/Yk8DBPl/Yi8Mk9gdV0cD/0bQB9zUV5L+x18KNJ+Efw41Cx0n4Uab8IIrnUnnfSbO4tp1um8qJftJaAlcnGzBOR5foRW3+0Z8OfG/xP8DW+n+AviNP8MNYjvUnl1WHQ7XV2mgCSK0HlXIKLuZkbeOR5eBwxoA+cfGn7I37U/wDw1B41+IfhX4v/AAWsV18rp+kRax8Pby/u9E0iNt0Nikq6jGuC5aaVggMsr5PyRwxxWbz4I/tyXNrJGnx9+Alu7qVEsfwtvS0Z9Ru1QjP1BHtW1/wx/wDtKf8AR3+r/wDhtNC/+Io/4Y//AGlP+jv9X/8ADaaF/wDEUAcz/wAE+P8Agm78U/gH+1R48+Mnx1+NKfG3xz4i0aDw/oM8WiDSbbwzp/2h7i5t4IVdkVJZBan5Qp/cfMXJyNz9kn9ib4kfB/XPjGuqeItB8EWnjjxXdaxpeo+CjBdX81t5wishLHf6e0NqINNt7K0Fuv2mMbZXSRNyqtr/AIY//aU/6O/1f/w2mhf/ABFH/DH/AO0p/wBHf6v/AOG00L/4igD0r/hmnxn/ANHCfF//AMFvhb/5TV5n+1h+zV8XfiH+1Z+z/wCN/CNp4E1zS/gne6lqFxJ4i8TXOmX+vSXujXWmsCltpk0URVp0l3Lw3zAJHgU7/hj/APaU/wCjv9X/APDaaF/8RR/wx/8AtKf9Hf6v/wCG00L/AOIoA+qq4T9mr4Mt+z78GNL8JPqC6qdNmu5PtSweSJBNdTTj5NzYwJcdT0rxD/hj/wDaU/6O/wBX/wDDaaF/8RR/wx/+0p/0d/q//htNC/8AiKAPqqvOdZ/ZL+HniH9oaz+Kt74bhuPHdhawWkOoNcz+WBAt2sEht9/kNPEl/eok7RmVEu5kVwrsD43/AMMf/tKf9Hf6v/4bTQv/AIij/hj/APaU/wCjv9X/APDaaF/8RQB9VUV8q/8ADH/7Sn/R3+r/APhtNC/+Io/4Y/8A2lP+jv8AV/8Aw2mhf/EUAfVVFfKv/DH/AO0p/wBHf6v/AOG00L/4ij/hj/8AaU/6O/1f/wANpoX/AMRQB9VVwngD4Mv4I+NnxA8XHUFuU8cHTitqIdhs/stuYTltx37sg9Bjpz1rxD/hj/8AaU/6O/1f/wANpoX/AMRR/wAMf/tKf9Hf6v8A+G00L/4igD6qoqtotrcWOj2kN5dfbruGFEnufKEX2hwoDPsHC7jk4HAzVmgAooooA+fv29/2TfHX7WeleB7Twh8QfDPgSPwf4ls/FMh1XwjNrxv7m0cSW6fu7+08uLdu3j5mbIwyYOfe9PSeOwhW6kimuVjUTSRRGKOR8fMVUsxUE5wCzY9T1qaigBk8K3ELxuMo6lWHqDWd4P8ABWk/D/wjYaDoun2um6Npdulpa2cCbYoYlG1VA9Mfn3rUooAz/C3hTTfBGhw6ZpFlBp+n25cxW8C7Y4t7l22joBuYnA4GeK0KKKACiiigAooooAKKKKACiiigAooooAKKKKACiiigAooooAKKKKACiiigAooooAKKKKACiiigAooooAKKKKACiiigAooooAKKKKACiiigAooooAKKKKACvn/Vf+Co3wK0b4p614Jm8cE+KtDFz5mnQ6LqE0l+9vci1uIbEpAVv54rhvKeG0MsiOGDKCrY+gK/Pr9jr4LeD/EH/Baf40aj4d0G2stB/Z98Jaf4Q0oPuuFTWNdvL3X9WuopJCzCZjdRLIwbP75l6FhQB9k/s+/tL+DP2ovDGp6t4L1O7v7fRNTk0bU4L3S7vS73TL6OOOR7a4tbuKKeGVUmiJSRFIDjiu8r81v+Dfz49f8ACy4PiVM+lPP4o+J/irXvid40mjnDx+C7m7vIbXTNBnIUg3X2K3eVo9waFUTcpMwI/SmgAooooAKKKKACiiigAooooAKKKKACiiigAooooAKKKKACiiigAooooAKKKKACiiigAooooAKKKKACiiigAooooAKKKKACiiigAooooAKKKKACiiigAooooAKKKKACiiigAooooAKKKKACiiigAooooAKKKKACiiigAooooAKKKKACiiigAooooAKKKKAP/9k=)"
      ],
      "metadata": {
        "id": "NzdQLvFkDulw"
      }
    },
    {
      "cell_type": "markdown",
      "source": [
        "### **Дисперсия (variance)**\n",
        "\n",
        "Сумма квадратических отклонений от среднего, деленная на n – 1, где n —\n",
        "число значений данных.\n",
        "\n",
        "Дисперсия показывает «разброс» данных вокруг среднего значения.\n",
        "\n",
        "*Синонимы*: среднеквадратическое отклонение, среднеквадратическая ошибка."
      ],
      "metadata": {
        "id": "Z22HAGShFXZD"
      }
    },
    {
      "cell_type": "markdown",
      "source": [
        "![var.jpg](data:image/jpeg;base64,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)"
      ],
      "metadata": {
        "id": "wK1tD8P1ue7w"
      }
    },
    {
      "cell_type": "code",
      "source": [
        "arr = [8,1,5,3,4,5,6,7,2,3,10]\n",
        "\n",
        "#python\n",
        "def variance(arr):\n",
        "    mean = sum(arr) / len(arr)\n",
        "    squared_differences = 0\n",
        "    for number in arr:\n",
        "        difference = mean - number\n",
        "        squared_difference = difference ** 2\n",
        "        squared_differences += squared_difference\n",
        "    variance = squared_differences / (len(arr) - 1)\n",
        "    return variance\n",
        "\n",
        "#pandas\n",
        "import pandas as pd\n",
        "arr_pd = pd.Series(arr)\n",
        "variance = arr_pd.var()\n",
        "\n",
        "#numpy\n",
        "import numpy as np\n",
        "np.var(arr, ddof=1) # 0 - для генеральной совокупности, 1 - для выборки\n",
        "\n",
        "#scipy\n",
        "from scipy.stats import variation\n",
        "variation(arr, ddof=1)\n",
        "\n",
        "# statistics\n",
        "import statistics\n",
        "statistics.pvariance(arr) # генеральная совокупность\n",
        "statistics.variance(arr) # выборка"
      ],
      "metadata": {
        "id": "lA_GhUqEX98v"
      },
      "execution_count": null,
      "outputs": []
    },
    {
      "cell_type": "markdown",
      "source": [
        "### **Стандартное отклонение (standard deviation)**\n",
        "\n",
        "Квадратный корень из дисперсии.\n",
        "\n",
        "*Синонимы*: норма l2, евклидова норма.\n"
      ],
      "metadata": {
        "id": "yi_HNBqKFgIG"
      }
    },
    {
      "cell_type": "markdown",
      "source": [
        "![sd.jpg](data:image/jpeg;base64,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)"
      ],
      "metadata": {
        "id": "y46lS_AnFARH"
      }
    },
    {
      "cell_type": "code",
      "source": [
        "arr = [8,1,5,3,4,5,6,7,2,3,10]\n",
        "\n",
        "#python\n",
        "import math\n",
        "def standard_deviation(arr):\n",
        "    mean = sum(arr) / len(arr)\n",
        "    squared_differences = 0\n",
        "    for number in arr:\n",
        "        difference = mean - number\n",
        "        squared_difference = difference ** 2\n",
        "        squared_differences += squared_difference\n",
        "    variance = squared_differences / (len(arr) - 1)\n",
        "    standard_deviation = math.sqrt(variance)\n",
        "    return standard_deviation\n",
        "\n",
        "#pandas\n",
        "import pandas as pd\n",
        "arr_pd = pd.Series(arr)\n",
        "sd = arr_pd.std()\n",
        "\n",
        "#numpy\n",
        "import numpy as np\n",
        "np.std(arr, ddof=1)\n",
        "\n",
        "#scipy\n",
        "import numpy as np\n",
        "from scipy import stats\n",
        "np.array(arr).std(ddof=1)\n",
        "\n",
        "# statistics\n",
        "import statistics\n",
        "statistics.stdev(arr)"
      ],
      "metadata": {
        "id": "V-SSPUIdE51w"
      },
      "execution_count": null,
      "outputs": []
    },
    {
      "cell_type": "markdown",
      "source": [
        "### **Медианное абсолютное отклонение от медианы (median absolute deviation from the median)**\n",
        "\n",
        "Медиана абсолютных значений отклонений от медианы."
      ],
      "metadata": {
        "id": "76KETryyGJd8"
      }
    },
    {
      "cell_type": "markdown",
      "source": [
        "Дисперсия и стандартное отклонение *чувствительны к выбросам* больше\n",
        "всего, поскольку они основаны на квадратических отклонениях.\n",
        "Робастной оценкой вариабельности является медианное абсолютное отклонение\n",
        "от медианы."
      ],
      "metadata": {
        "id": "zPchfb1QtFoY"
      }
    },
    {
      "cell_type": "markdown",
      "source": [
        "![mad_.jpg](data:image/jpeg;base64,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)"
      ],
      "metadata": {
        "id": "nv1gRK2eyhl0"
      }
    },
    {
      "cell_type": "markdown",
      "source": [
        "### **Размах (range)**\n",
        "\n",
        "Разница между самым большим и самым малым значениями в наборе данных.\n"
      ],
      "metadata": {
        "id": "tJHkWHLXGqec"
      }
    },
    {
      "cell_type": "code",
      "source": [
        "arr = [8,1,5,3,4,5,6,7,2,3,10]\n",
        "\n",
        "#python\n",
        "def arr_range(arr):\n",
        "    return max(arr) - min(arr)\n",
        "\n",
        "#pandas\n",
        "import pandas as pd\n",
        "arr_pd = pd.Series(arr)\n",
        "arr_range = max(arr_pd) - min(arr_pd)\n",
        "\n",
        "#numpy\n",
        "import numpy as np\n",
        "np.ptp(arr)\n",
        "\n",
        "#scipy\n",
        "from scipy import stats\n",
        "stats.iqr(arr, rng=(0, 100))\n",
        "\n"
      ],
      "metadata": {
        "id": "XL1J9LaOYP7Z"
      },
      "execution_count": null,
      "outputs": []
    },
    {
      "cell_type": "markdown",
      "source": [
        "### **Порядковые статистики (order statistics)**\n",
        "\n",
        "Метрические показатели на основе значений данных, отсортированных от самых малых до самых больших.\n",
        "\n",
        "*Синоним*: ранг."
      ],
      "metadata": {
        "id": "2rkK3o74GuaE"
      }
    },
    {
      "cell_type": "markdown",
      "source": [
        "### **Процентиль (percentile)**\n",
        "\n",
        "Такое значение, что P процентов значений принимает данное значение или\n",
        "меньшее и (100 – P) процентов значений принимает данное значение или\n",
        "большее.\n",
        "\n",
        "*Синоним*: квантиль."
      ],
      "metadata": {
        "id": "dymWdlz4HFDl"
      }
    },
    {
      "cell_type": "code",
      "source": [
        "arr = [8,1,5,3,4,5,6,7,2,3,10]\n",
        "\n",
        "#python (примерное вычисление)\n",
        "q1 = sorted(arr)[int(len(arr)*.25)]\n",
        "q2 = sorted(arr)[int(len(arr)*.50)]\n",
        "q3 = sorted(arr)[int(len(arr)*.75)]\n",
        "\n",
        "#pandas\n",
        "import pandas as pd\n",
        "q1 = pd.Series(arr).quantile(.25)\n",
        "q2 = pd.Series(arr).quantile(.50)\n",
        "q3 = pd.Series(arr).quantile(.75)\n",
        "\n",
        "#numpy\n",
        "import numpy as np\n",
        "q1 = np.percentile (np.array(arr), 25)\n",
        "q2 = np.percentile (np.array(arr), 50)\n",
        "q3 = np.percentile (np.array(arr), 75)\n",
        "\n",
        "#scipy\n",
        "from scipy import stats\n",
        "q1 = stats.scoreatpercentile(arr, 25)\n",
        "q2 = stats.scoreatpercentile(arr, 50)\n",
        "q3 = stats.scoreatpercentile(arr, 75)\n",
        "\n",
        "#statistics (примерный расчёт)\n",
        "import statistics\n",
        "statistics.quantiles(arr, n=4)"
      ],
      "metadata": {
        "id": "7cLQWRTknxZO"
      },
      "execution_count": null,
      "outputs": []
    },
    {
      "cell_type": "markdown",
      "source": [
        "### **Межквартильный размах (interquartile range)**\n",
        "\n",
        "Разница между 75-м и 25-м процентилями.\n",
        "\n",
        "*Синонимы*: МКР, IQR."
      ],
      "metadata": {
        "id": "MGmSWAsfHTX_"
      }
    },
    {
      "cell_type": "code",
      "source": [
        "arr = [8,1,5,3,4,5,6,7,2,3,10]\n",
        "\n",
        "#python (примерное вычисление)\n",
        "def IQR(arr):\n",
        "    quartile_1 = sorted(arr)[int(len(arr) * .25)]\n",
        "    quartile_3 = sorted(arr)[int(len(arr) * .75)]\n",
        "    IQR = quartile_3 - quartile_1\n",
        "    return IQR\n",
        "\n",
        "#numpy\n",
        "import numpy as np\n",
        "q3, q1 = np.percentile (np.array(arr), [75 ,25])\n",
        "IQR = q3 - q1\n",
        "\n",
        "#pandas\n",
        "import pandas as pd\n",
        "IQR = pd.Series(arr).quantile(.75) - pd.Series(arr).quantile(.25)\n",
        "\n",
        "#scipy\n",
        "from scipy import stats\n",
        "stats.iqr(arr, rng=(25, 75))\n",
        "\n",
        "#statistics (примерный расчёт)\n",
        "import statistics\n",
        "q = statistics.quantiles(arr, n=4)\n",
        "IQR = q[2]-q[0]"
      ],
      "metadata": {
        "colab": {
          "base_uri": "https://localhost:8080/"
        },
        "id": "IkBklk3AZRFV",
        "outputId": "b37089fb-91cf-408f-d108-20bec2dc5f2c"
      },
      "execution_count": 1,
      "outputs": [
        {
          "output_type": "execute_result",
          "data": {
            "text/plain": [
              "3.5"
            ]
          },
          "metadata": {},
          "execution_count": 1
        }
      ]
    },
    {
      "cell_type": "code",
      "source": [
        "import pandas as pd\n",
        "import seaborn as sns\n",
        "import matplotlib.pyplot as plt\n",
        "plt.style.use('seaborn')\n",
        "arr = [80,10,50,30,40,50,60,70,20,30,100, 160]\n",
        "data = pd.Series(arr)\n",
        "plt.figure(figsize=(6,4))\n",
        "sns.boxplot(data)\n",
        "plt.show()"
      ],
      "metadata": {
        "colab": {
          "base_uri": "https://localhost:8080/",
          "height": 320
        },
        "id": "KtNmBZyGQmv6",
        "outputId": "c19009d7-3f10-4573-8442-6c7f71220ef0"
      },
      "execution_count": 69,
      "outputs": [
        {
          "output_type": "stream",
          "name": "stderr",
          "text": [
            "/usr/local/lib/python3.8/dist-packages/seaborn/_decorators.py:36: FutureWarning: Pass the following variable as a keyword arg: x. From version 0.12, the only valid positional argument will be `data`, and passing other arguments without an explicit keyword will result in an error or misinterpretation.\n",
            "  warnings.warn(\n"
          ]
        },
        {
          "output_type": "display_data",
          "data": {
            "text/plain": [
              "<Figure size 432x288 with 1 Axes>"
            ],
            "image/png": "[encoded data removed]"
          },
          "metadata": {}
        }
      ]
    }
  ]
}